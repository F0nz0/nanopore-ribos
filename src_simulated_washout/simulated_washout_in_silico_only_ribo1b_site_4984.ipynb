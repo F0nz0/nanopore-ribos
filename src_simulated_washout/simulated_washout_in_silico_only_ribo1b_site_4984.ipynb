{
 "cells": [
  {
   "cell_type": "markdown",
   "id": "a5c279bd",
   "metadata": {},
   "source": [
    "## Simulated Washout in-silico DNA vs RIBO1B (reverse strand)\n",
    "### Position: M13mp18:4984\n",
    "\n",
    "A total of 6 subsampled BAM files were produced mixing in different percentages of reads mapping on the reverse strand coming from both DNA_only (2023) and RIBO1B runs. For each mixed subsampled BAM file, a fixed amount of about 100k reads were used using increasing percentages of DNA reads to simulate an in-silico \"washout\" effect (0, 20, 40, 60, 80, 100 % of DNA reads vs RIBO1B reads). The site used for this analysis was the M13mp18:4984, which is the expected incorporation site for the rG in RIBO1B construct. Here complement bases are shown."
   ]
  },
  {
   "cell_type": "code",
   "execution_count": 1,
   "id": "f548eb67",
   "metadata": {},
   "outputs": [
    {
     "data": {
      "text/plain": [
       "<Figure size 432x288 with 0 Axes>"
      ]
     },
     "metadata": {},
     "output_type": "display_data"
    }
   ],
   "source": [
    "# importing basic modules\n",
    "import pandas as pd\n",
    "import pysam\n",
    "from datetime import datetime\n",
    "import numpy as np\n",
    "import matplotlib.pyplot as plt\n",
    "import seaborn as sn\n",
    "import os\n",
    "from glob import glob\n",
    "\n",
    "# to plot better figures\n",
    "plt.tight_layout()\n",
    "\n",
    "# ---------- defining Utils Functions --------------- #\n",
    "\n",
    "def get_results_list(bam_file_path, contig, start_pos_1_based, end_pos_1_based):\n",
    "    bam_file = pysam.AlignmentFile(bam_file_path)\n",
    "    start_pos_0_based = start_pos_1_based - 1\n",
    "    end_pos_0_based = end_pos_1_based\n",
    "    \n",
    "    result = []\n",
    "    for pileupcolumn in bam_file.pileup(contig, start_pos_0_based, end_pos_0_based, truncate=True, min_base_quality=0, max_depth=10000000):\n",
    "        result.append(pileupcolumn.get_query_sequences(mark_matches=True, add_indels=True))\n",
    "    bam_file.close()\n",
    "    \n",
    "    return result\n",
    "\n",
    "\n",
    "def get_stats(result_list_single_pos, verbose=True):\n",
    "    T_count = 0\n",
    "    C_count = 0\n",
    "    G_count = 0\n",
    "    A_count = 0\n",
    "    del_count = 0\n",
    "    for i in result_list_single_pos:\n",
    "        if i.lower() == \"t\":\n",
    "            T_count += 1\n",
    "        elif i.lower() == \"c\":\n",
    "            C_count += 1\n",
    "        elif i.lower() == \"g\":\n",
    "            G_count += 1\n",
    "        elif i.lower() == \"a\":\n",
    "            A_count += 1\n",
    "        if i.lower() == \"*\":\n",
    "            del_count += 1\n",
    "        if \"+\" in i.lower():\n",
    "            i_splitted = i.lower().split(\"+\")\n",
    "            if i_splitted[0] == \"t\":\n",
    "                T_count += 1\n",
    "            elif i_splitted[0] == \"c\":\n",
    "                C_count += 1\n",
    "            elif i_splitted[0] == \"g\":\n",
    "                G_count += 1\n",
    "            elif i_splitted[0]  == \"a\":\n",
    "                A_count += 1\n",
    "        if \"-\" in i.lower():\n",
    "            i_splitted = i.lower().split(\"-\")\n",
    "            if i_splitted[0] == \"t\":\n",
    "                T_count += 1\n",
    "            elif i_splitted[0] == \"c\":\n",
    "                C_count += 1\n",
    "            elif i_splitted[0] == \"g\":\n",
    "                G_count += 1\n",
    "            elif i_splitted[0]  == \"a\":\n",
    "                A_count += 1\n",
    "                \n",
    "    if verbose:\n",
    "        print(\"T\", T_count)\n",
    "        print(\"C\", C_count)\n",
    "        print(\"G\", G_count)\n",
    "        print(\"A\", A_count)\n",
    "        print(\"Deletions\", del_count)\n",
    "    \n",
    "    output = [T_count, C_count, G_count, A_count, del_count]\n",
    "    return output\n",
    "\n",
    "\n",
    "def get_insertions(bam_file_path, contig, start_pos_1_based, end_pos_1_based):\n",
    "    bam_file = pysam.AlignmentFile(bam_file_path)\n",
    "    start_pos_0_based = start_pos_1_based - 2 # -2 cause we want to calculate insertion of the previous reference positions in 0-based index\n",
    "    end_pos_0_based = end_pos_1_based - 1 # -1 cause we want to calculate insertion of the previous reference positions in 0-based index with right opened intervals (pythonic way)\n",
    "    \n",
    "    #start_time = datetime.now()\n",
    "    result = []\n",
    "    for pileupcolumn in bam_file.pileup(contig, start_pos_0_based, end_pos_0_based, truncate=True, min_base_quality=0, max_depth=10000000):\n",
    "        result.append(pileupcolumn.get_query_sequences(mark_matches=True, add_indels=True))\n",
    "    #stop_time = datetime.now()\n",
    "    bam_file.close()\n",
    "    \n",
    "    final_output_insertions = []\n",
    "    for pos in result:\n",
    "        ins_count = 0\n",
    "        for read in pos:\n",
    "            if \"+\" in read.lower():\n",
    "                ins_count += 1\n",
    "        final_output_insertions.append(ins_count)\n",
    "    return final_output_insertions\n",
    "\n",
    "\n",
    "def calc_freq_bases(df):\n",
    "    freq = pd.DataFrame(df.iloc[:,0:6].values / np.array(df.iloc[:,0:6].sum(axis=1).values).reshape(df.shape[0],1), \n",
    "             columns=[\"T_freq\", \"C_freq\", \"G_freq\", \"A_freq\", \"del_freq\", \"ins_freq\"])\n",
    "    freq[\"index\"] = df.index.to_list()\n",
    "    freq.set_index(\"index\", inplace=True)\n",
    "    df_with_freq = pd.concat([df, freq], axis=1)\n",
    "    return df_with_freq\n",
    "\n",
    "\n",
    "def get_stats_region(result_list_region, start_pos_1_based=None, stop_pos_1_based=None):\n",
    "    final_output = []\n",
    "    for i in result_list_region:\n",
    "        output = get_stats(i, verbose=False)\n",
    "        final_output.append(output)\n",
    "    df_final_output = pd.DataFrame(final_output, columns=[\"T_count\", \"C_count\", \"G_count\", \"A_count\", \"del_count\"])\n",
    "    if start_pos_1_based != None and stop_pos_1_based != None:\n",
    "        index = range(start_pos_1_based, stop_pos_1_based+1)\n",
    "        df_final_output.index = index\n",
    "    return df_final_output\n",
    "\n",
    "\n",
    "def get_stats_from_region(bam_file_path, contig, start_pos_1_based, end_pos_1_based):\n",
    "    start_time = datetime.now()\n",
    "    r = get_results_list(bam_file_path, contig, start_pos_1_based, end_pos_1_based)\n",
    "    df_r = get_stats_region(r, start_pos_1_based, end_pos_1_based)\n",
    "    insertions = get_insertions(bam_file_path, contig, start_pos_1_based, end_pos_1_based)\n",
    "    df_r[\"ins_freq\"] = insertions\n",
    "    df_r_freq = calc_freq_bases(df_r)\n",
    "    stop_time = datetime.now()\n",
    "    print(f\"[{datetime.now()}] Elapsed time: {stop_time - start_time}\", flush=True)\n",
    "    return df_r_freq\n",
    "\n",
    "def get_reverse_complment(seq):\n",
    "    rules = {\"A\":\"T\", \"T\":\"A\", \"G\":\"C\", \"C\":\"G\"}\n",
    "    rev_compl_seq = []\n",
    "    for b in seq:\n",
    "        rev_compl_seq.append(rules[b])\n",
    "    # convert to string\n",
    "    rev_compl_seq = \"\".join(rev_compl_seq)\n",
    "    return rev_compl_seq"
   ]
  },
  {
   "cell_type": "code",
   "execution_count": 2,
   "id": "c96a117d",
   "metadata": {},
   "outputs": [
    {
     "data": {
      "text/plain": [
       "['/lustre/bio_running/DNA_Ribo_2023/mixed_datasets/mix_dna_ribo_80_20.reverse.bam',\n",
       " '/lustre/bio_running/DNA_Ribo_2023/mixed_datasets/mix_dna_ribo_20_80.reverse.bam',\n",
       " '/lustre/bio_running/DNA_Ribo_2023/mixed_datasets/mix_dna_ribo_0_100.reverse.bam',\n",
       " '/lustre/bio_running/DNA_Ribo_2023/mixed_datasets/mix_dna_ribo_100_0.reverse.bam',\n",
       " '/lustre/bio_running/DNA_Ribo_2023/mixed_datasets/mix_dna_ribo_60_40.reverse.bam',\n",
       " '/lustre/bio_running/DNA_Ribo_2023/mixed_datasets/mix_dna_ribo_40_60.reverse.bam']"
      ]
     },
     "execution_count": 2,
     "metadata": {},
     "output_type": "execute_result"
    }
   ],
   "source": [
    "# print mixed datasets produced mixing 100:0; 80:20; 60:40; 40:60; 20:80; 0:100 DNAonly vs RIBO1B reads.\n",
    "basedir = \"/lustre/bio_running/DNA_Ribo_2023/mixed_datasets\"\n",
    "glob(os.path.join(basedir, \"mix*bam\"))"
   ]
  },
  {
   "cell_type": "code",
   "execution_count": 3,
   "id": "cf8db052",
   "metadata": {},
   "outputs": [
    {
     "data": {
      "text/plain": [
       "['/lustre/bio_running/DNA_Ribo_2023/mixed_datasets/mix_dna_ribo_0_100.reverse.bam',\n",
       " '/lustre/bio_running/DNA_Ribo_2023/mixed_datasets/mix_dna_ribo_20_80.reverse.bam',\n",
       " '/lustre/bio_running/DNA_Ribo_2023/mixed_datasets/mix_dna_ribo_40_60.reverse.bam',\n",
       " '/lustre/bio_running/DNA_Ribo_2023/mixed_datasets/mix_dna_ribo_60_40.reverse.bam',\n",
       " '/lustre/bio_running/DNA_Ribo_2023/mixed_datasets/mix_dna_ribo_80_20.reverse.bam',\n",
       " '/lustre/bio_running/DNA_Ribo_2023/mixed_datasets/mix_dna_ribo_100_0.reverse.bam']"
      ]
     },
     "execution_count": 3,
     "metadata": {},
     "output_type": "execute_result"
    }
   ],
   "source": [
    "# define ordered bam list\n",
    "bam_list = ['/lustre/bio_running/DNA_Ribo_2023/mixed_datasets/mix_dna_ribo_0_100.reverse.bam','/lustre/bio_running/DNA_Ribo_2023/mixed_datasets/mix_dna_ribo_20_80.reverse.bam','/lustre/bio_running/DNA_Ribo_2023/mixed_datasets/mix_dna_ribo_40_60.reverse.bam','/lustre/bio_running/DNA_Ribo_2023/mixed_datasets/mix_dna_ribo_60_40.reverse.bam', '/lustre/bio_running/DNA_Ribo_2023/mixed_datasets/mix_dna_ribo_80_20.reverse.bam','/lustre/bio_running/DNA_Ribo_2023/mixed_datasets/mix_dna_ribo_100_0.reverse.bam']\n",
    "bam_list"
   ]
  },
  {
   "cell_type": "code",
   "execution_count": 4,
   "id": "c921be47",
   "metadata": {},
   "outputs": [
    {
     "name": "stdout",
     "output_type": "stream",
     "text": [
      "[2023-08-30 17:43:42.727497] Elapsed time: 0:00:15.249923\n",
      "\n",
      "######################/lustre/bio_running/DNA_Ribo_2023/mixed_datasets/mix_dna_ribo_0_100.reverse.bam\n",
      "        T_freq    C_freq    G_freq    A_freq  del_freq  ins_freq\n",
      "4984  0.230073  0.552412  0.001555  0.078406  0.122161  0.015393\n",
      "\n",
      "\n",
      "\n",
      "[2023-08-30 17:44:01.942185] Elapsed time: 0:00:19.205824\n",
      "\n",
      "######################/lustre/bio_running/DNA_Ribo_2023/mixed_datasets/mix_dna_ribo_20_80.reverse.bam\n",
      "        T_freq    C_freq    G_freq    A_freq  del_freq  ins_freq\n",
      "4984  0.190641  0.631999  0.001514  0.063149  0.099759  0.012937\n",
      "\n",
      "\n",
      "\n",
      "[2023-08-30 17:44:22.271649] Elapsed time: 0:00:20.322428\n",
      "\n",
      "######################/lustre/bio_running/DNA_Ribo_2023/mixed_datasets/mix_dna_ribo_40_60.reverse.bam\n",
      "        T_freq    C_freq   G_freq    A_freq  del_freq  ins_freq\n",
      "4984  0.152454  0.708708  0.00141  0.049331   0.07825  0.009848\n",
      "\n",
      "\n",
      "\n",
      "[2023-08-30 17:44:43.494141] Elapsed time: 0:00:21.211533\n",
      "\n",
      "######################/lustre/bio_running/DNA_Ribo_2023/mixed_datasets/mix_dna_ribo_60_40.reverse.bam\n",
      "        T_freq    C_freq    G_freq   A_freq  del_freq  ins_freq\n",
      "4984  0.111109  0.789233  0.001254  0.03507   0.05581  0.007525\n",
      "\n",
      "\n",
      "\n",
      "[2023-08-30 17:45:07.646969] Elapsed time: 0:00:24.141055\n",
      "\n",
      "######################/lustre/bio_running/DNA_Ribo_2023/mixed_datasets/mix_dna_ribo_80_20.reverse.bam\n",
      "        T_freq    C_freq    G_freq    A_freq  del_freq  ins_freq\n",
      "4984  0.068099  0.872455  0.001283  0.019777  0.033536  0.004851\n",
      "\n",
      "\n",
      "\n",
      "[2023-08-30 17:45:28.708056] Elapsed time: 0:00:21.038279\n",
      "\n",
      "######################/lustre/bio_running/DNA_Ribo_2023/mixed_datasets/mix_dna_ribo_100_0.reverse.bam\n",
      "        T_freq    C_freq    G_freq    A_freq  del_freq  ins_freq\n",
      "4984  0.025204  0.955624  0.001173  0.005116  0.011264  0.001619\n",
      "\n",
      "\n",
      "\n"
     ]
    }
   ],
   "source": [
    "region=\"M13mp18\"\n",
    "pos_1_based=4984\n",
    "\n",
    "stats_list = []\n",
    "for bam in bam_list:\n",
    "# get stats\n",
    "    bam_path = bam\n",
    "    stats = get_stats_from_region(bam_path, \"M13mp18\", pos_1_based, pos_1_based)\n",
    "    # append to stats list\n",
    "    stats_list.append(stats)\n",
    "    print(f\"\\n######################{bam_path}\")\n",
    "    print(stats.iloc[:,6:])\n",
    "    print(\"\\n\\n\")"
   ]
  },
  {
   "cell_type": "code",
   "execution_count": 5,
   "id": "cc6cc0bb",
   "metadata": {},
   "outputs": [
    {
     "data": {
      "text/plain": [
       "[      T_count  C_count  G_count  A_count  del_count  ins_freq    T_freq  \\\n",
       " 4984    10059    24152       68     3428       5341       673  0.230073   \n",
       " \n",
       "         C_freq    G_freq    A_freq  del_freq  ins_freq  \n",
       " 4984  0.552412  0.001555  0.078406  0.122161  0.015393  ,\n",
       "       T_count  C_count  G_count  A_count  del_count  ins_freq    T_freq  \\\n",
       " 4984     8311    27552       66     2753       4349       564  0.190641   \n",
       " \n",
       "         C_freq    G_freq    A_freq  del_freq  ins_freq  \n",
       " 4984  0.631999  0.001514  0.063149  0.099759  0.012937  ,\n",
       "       T_count  C_count  G_count  A_count  del_count  ins_freq    T_freq  \\\n",
       " 4984     6595    30658       61     2134       3385       426  0.152454   \n",
       " \n",
       "         C_freq   G_freq    A_freq  del_freq  ins_freq  \n",
       " 4984  0.708708  0.00141  0.049331   0.07825  0.009848  ,\n",
       "       T_count  C_count  G_count  A_count  del_count  ins_freq    T_freq  \\\n",
       " 4984     4784    33982       54     1510       2403       324  0.111109   \n",
       " \n",
       "         C_freq    G_freq   A_freq  del_freq  ins_freq  \n",
       " 4984  0.789233  0.001254  0.03507   0.05581  0.007525  ,\n",
       "       T_count  C_count  G_count  A_count  del_count  ins_freq    T_freq  \\\n",
       " 4984     2920    37410       55      848       1438       208  0.068099   \n",
       " \n",
       "         C_freq    G_freq    A_freq  del_freq  ins_freq  \n",
       " 4984  0.872455  0.001283  0.019777  0.033536  0.004851  ,\n",
       "       T_count  C_count  G_count  A_count  del_count  ins_freq    T_freq  \\\n",
       " 4984     1074    40722       50      218        480        69  0.025204   \n",
       " \n",
       "         C_freq    G_freq    A_freq  del_freq  ins_freq  \n",
       " 4984  0.955624  0.001173  0.005116  0.011264  0.001619  ]"
      ]
     },
     "execution_count": 5,
     "metadata": {},
     "output_type": "execute_result"
    }
   ],
   "source": [
    "# show stats_list\n",
    "stats_list"
   ]
  },
  {
   "cell_type": "code",
   "execution_count": 6,
   "id": "b03ac717",
   "metadata": {},
   "outputs": [
    {
     "data": {
      "text/plain": [
       "[      A_count  G_count  C_count  T_count  del_count  ins_count    A_freq  \\\n",
       " 4984    10059    24152       68     3428       5341        673  0.230073   \n",
       " \n",
       "         G_freq    C_freq    T_freq  del_freq  ins_freq  \n",
       " 4984  0.552412  0.001555  0.078406  0.122161  0.015393  ,\n",
       "       A_count  G_count  C_count  T_count  del_count  ins_count    A_freq  \\\n",
       " 4984     8311    27552       66     2753       4349        564  0.190641   \n",
       " \n",
       "         G_freq    C_freq    T_freq  del_freq  ins_freq  \n",
       " 4984  0.631999  0.001514  0.063149  0.099759  0.012937  ,\n",
       "       A_count  G_count  C_count  T_count  del_count  ins_count    A_freq  \\\n",
       " 4984     6595    30658       61     2134       3385        426  0.152454   \n",
       " \n",
       "         G_freq   C_freq    T_freq  del_freq  ins_freq  \n",
       " 4984  0.708708  0.00141  0.049331   0.07825  0.009848  ,\n",
       "       A_count  G_count  C_count  T_count  del_count  ins_count    A_freq  \\\n",
       " 4984     4784    33982       54     1510       2403        324  0.111109   \n",
       " \n",
       "         G_freq    C_freq   T_freq  del_freq  ins_freq  \n",
       " 4984  0.789233  0.001254  0.03507   0.05581  0.007525  ,\n",
       "       A_count  G_count  C_count  T_count  del_count  ins_count    A_freq  \\\n",
       " 4984     2920    37410       55      848       1438        208  0.068099   \n",
       " \n",
       "         G_freq    C_freq    T_freq  del_freq  ins_freq  \n",
       " 4984  0.872455  0.001283  0.019777  0.033536  0.004851  ,\n",
       "       A_count  G_count  C_count  T_count  del_count  ins_count    A_freq  \\\n",
       " 4984     1074    40722       50      218        480         69  0.025204   \n",
       " \n",
       "         G_freq    C_freq    T_freq  del_freq  ins_freq  \n",
       " 4984  0.955624  0.001173  0.005116  0.011264  0.001619  ]"
      ]
     },
     "execution_count": 6,
     "metadata": {},
     "output_type": "execute_result"
    }
   ],
   "source": [
    "# convert to complement since here we are analyzing reads mapping on minus strand\n",
    "rev_compl_columns = ['A_count', 'G_count', 'C_count', 'T_count', 'del_count', 'ins_count', 'A_freq', 'G_freq', 'C_freq', 'T_freq', 'del_freq', 'ins_freq']\n",
    "for s in stats_list:\n",
    "    s.columns = rev_compl_columns\n",
    "# show stats_list\n",
    "stats_list"
   ]
  },
  {
   "cell_type": "code",
   "execution_count": 7,
   "id": "b71fbd67",
   "metadata": {},
   "outputs": [
    {
     "data": {
      "text/html": [
       "<div>\n",
       "<style scoped>\n",
       "    .dataframe tbody tr th:only-of-type {\n",
       "        vertical-align: middle;\n",
       "    }\n",
       "\n",
       "    .dataframe tbody tr th {\n",
       "        vertical-align: top;\n",
       "    }\n",
       "\n",
       "    .dataframe thead th {\n",
       "        text-align: right;\n",
       "    }\n",
       "</style>\n",
       "<table border=\"1\" class=\"dataframe\">\n",
       "  <thead>\n",
       "    <tr style=\"text-align: right;\">\n",
       "      <th></th>\n",
       "      <th>A_freq</th>\n",
       "      <th>G_freq</th>\n",
       "      <th>C_freq</th>\n",
       "      <th>T_freq</th>\n",
       "      <th>del_freq</th>\n",
       "      <th>ins_freq</th>\n",
       "    </tr>\n",
       "  </thead>\n",
       "  <tbody>\n",
       "    <tr>\n",
       "      <th>100</th>\n",
       "      <td>0.230073</td>\n",
       "      <td>0.552412</td>\n",
       "      <td>0.001555</td>\n",
       "      <td>0.078406</td>\n",
       "      <td>0.122161</td>\n",
       "      <td>0.015393</td>\n",
       "    </tr>\n",
       "    <tr>\n",
       "      <th>80</th>\n",
       "      <td>0.190641</td>\n",
       "      <td>0.631999</td>\n",
       "      <td>0.001514</td>\n",
       "      <td>0.063149</td>\n",
       "      <td>0.099759</td>\n",
       "      <td>0.012937</td>\n",
       "    </tr>\n",
       "    <tr>\n",
       "      <th>60</th>\n",
       "      <td>0.152454</td>\n",
       "      <td>0.708708</td>\n",
       "      <td>0.001410</td>\n",
       "      <td>0.049331</td>\n",
       "      <td>0.078250</td>\n",
       "      <td>0.009848</td>\n",
       "    </tr>\n",
       "    <tr>\n",
       "      <th>40</th>\n",
       "      <td>0.111109</td>\n",
       "      <td>0.789233</td>\n",
       "      <td>0.001254</td>\n",
       "      <td>0.035070</td>\n",
       "      <td>0.055810</td>\n",
       "      <td>0.007525</td>\n",
       "    </tr>\n",
       "    <tr>\n",
       "      <th>20</th>\n",
       "      <td>0.068099</td>\n",
       "      <td>0.872455</td>\n",
       "      <td>0.001283</td>\n",
       "      <td>0.019777</td>\n",
       "      <td>0.033536</td>\n",
       "      <td>0.004851</td>\n",
       "    </tr>\n",
       "    <tr>\n",
       "      <th>0</th>\n",
       "      <td>0.025204</td>\n",
       "      <td>0.955624</td>\n",
       "      <td>0.001173</td>\n",
       "      <td>0.005116</td>\n",
       "      <td>0.011264</td>\n",
       "      <td>0.001619</td>\n",
       "    </tr>\n",
       "  </tbody>\n",
       "</table>\n",
       "</div>"
      ],
      "text/plain": [
       "       A_freq    G_freq    C_freq    T_freq  del_freq  ins_freq\n",
       "100  0.230073  0.552412  0.001555  0.078406  0.122161  0.015393\n",
       "80   0.190641  0.631999  0.001514  0.063149  0.099759  0.012937\n",
       "60   0.152454  0.708708  0.001410  0.049331  0.078250  0.009848\n",
       "40   0.111109  0.789233  0.001254  0.035070  0.055810  0.007525\n",
       "20   0.068099  0.872455  0.001283  0.019777  0.033536  0.004851\n",
       "0    0.025204  0.955624  0.001173  0.005116  0.011264  0.001619"
      ]
     },
     "execution_count": 7,
     "metadata": {},
     "output_type": "execute_result"
    }
   ],
   "source": [
    "percs = [100,80,60,40,20,0]\n",
    "df_list = []\n",
    "for df,p in zip(stats_list,percs):\n",
    "    df = df.iloc[:,6:]\n",
    "    df.index=[p]\n",
    "    df_list.append(df)\n",
    "# store labels\n",
    "labels = df.columns.tolist()\n",
    "# concat datasets\n",
    "df = pd.concat(df_list)\n",
    "df"
   ]
  },
  {
   "cell_type": "code",
   "execution_count": 8,
   "id": "8cfec2c8",
   "metadata": {},
   "outputs": [
    {
     "data": {
      "image/png": "[encoded data removed]",
      "text/plain": [
       "<Figure size 1008x432 with 1 Axes>"
      ]
     },
     "metadata": {
      "needs_background": "light"
     },
     "output_type": "display_data"
    }
   ],
   "source": [
    "title = f\"Simulated Washout\\nM13mp18:{pos_1_based}\"\n",
    "df.plot(kind='bar', stacked=True, color=[\"red\", \"blue\", \"orange\", \"green\", \"gray\", \"black\"], figsize=(14, 6))\n",
    "plt.xlabel(\"Percentage (% of RIBO1B reads)\")\n",
    "plt.ylabel(\"Frequency\")\n",
    "plt.legend(bbox_to_anchor=(1.12, 0.67))\n",
    "plt.title(title)\n",
    "\n",
    "# save image to disk\n",
    "plt.savefig(\"/lustre/bio_running/DNA_Ribo_2023/results/simulated_washout/sim_washout_DNA_vs_RIBO1B_site_M13mp18_4984.reverse.tiff\", \n",
    "            dpi=300, bbox_inches='tight', facecolor='white', transparent=False)\n",
    "\n",
    "plt.show()"
   ]
  },
  {
   "cell_type": "markdown",
   "id": "2b2aae91",
   "metadata": {},
   "source": [
    "### Produce correlation analysis\n",
    "The correlatinos will be computed between the total error (mismatched aligned bases + indels) and the RIBO1B reads percentage."
   ]
  },
  {
   "cell_type": "code",
   "execution_count": 9,
   "id": "85d673fb",
   "metadata": {},
   "outputs": [
    {
     "data": {
      "text/plain": [
       "'G'"
      ]
     },
     "execution_count": 9,
     "metadata": {},
     "output_type": "execute_result"
    }
   ],
   "source": [
    "# produce correlation plot aggregating \n",
    "# detect expected base\n",
    "ref_filepath = \"/lustre/bio_running/DNA_Ribo/refs/ref.fa\"\n",
    "ref = pysam.FastaFile(ref_filepath)\n",
    "site = 4984\n",
    "expected_base = ref.fetch(\"M13mp18\", site-1, site)\n",
    "# change to complement\n",
    "expected_base = get_reverse_complment(expected_base)\n",
    "expected_base"
   ]
  },
  {
   "cell_type": "code",
   "execution_count": 10,
   "id": "d05d8d22",
   "metadata": {},
   "outputs": [
    {
     "name": "stderr",
     "output_type": "stream",
     "text": [
      "/tmp/ipykernel_72104/4169558105.py:3: SettingWithCopyWarning: \n",
      "A value is trying to be set on a copy of a slice from a DataFrame.\n",
      "Try using .loc[row_indexer,col_indexer] = value instead\n",
      "\n",
      "See the caveats in the documentation: https://pandas.pydata.org/pandas-docs/stable/user_guide/indexing.html#returning-a-view-versus-a-copy\n",
      "  s[\"total_error\"] = 0\n",
      "/tmp/ipykernel_72104/4169558105.py:4: SettingWithCopyWarning: \n",
      "A value is trying to be set on a copy of a slice from a DataFrame.\n",
      "Try using .loc[row_indexer,col_indexer] = value instead\n",
      "\n",
      "See the caveats in the documentation: https://pandas.pydata.org/pandas-docs/stable/user_guide/indexing.html#returning-a-view-versus-a-copy\n",
      "  s[\"total_error\"] = s.drop(\"G_freq\", axis=1).sum(axis=1).values[0]\n"
     ]
    },
    {
     "data": {
      "text/plain": [
       "[       A_freq    G_freq    C_freq    T_freq  del_freq  ins_freq  total_error\n",
       " 100  0.230073  0.552412  0.001555  0.078406  0.122161  0.015393     0.447588,\n",
       "       A_freq    G_freq    C_freq    T_freq  del_freq  ins_freq  total_error\n",
       " 80  0.190641  0.631999  0.001514  0.063149  0.099759  0.012937     0.368001,\n",
       "       A_freq    G_freq   C_freq    T_freq  del_freq  ins_freq  total_error\n",
       " 60  0.152454  0.708708  0.00141  0.049331   0.07825  0.009848     0.291292,\n",
       "       A_freq    G_freq    C_freq   T_freq  del_freq  ins_freq  total_error\n",
       " 40  0.111109  0.789233  0.001254  0.03507   0.05581  0.007525     0.210767,\n",
       "       A_freq    G_freq    C_freq    T_freq  del_freq  ins_freq  total_error\n",
       " 20  0.068099  0.872455  0.001283  0.019777  0.033536  0.004851     0.127545,\n",
       "      A_freq    G_freq    C_freq    T_freq  del_freq  ins_freq  total_error\n",
       " 0  0.025204  0.955624  0.001173  0.005116  0.011264  0.001619     0.044376]"
      ]
     },
     "execution_count": 10,
     "metadata": {},
     "output_type": "execute_result"
    }
   ],
   "source": [
    "# compute total error being C the expected refernce base\n",
    "for s in df_list:\n",
    "    s[\"total_error\"] = 0\n",
    "    s[\"total_error\"] = s.drop(\"G_freq\", axis=1).sum(axis=1).values[0]\n",
    "df_list"
   ]
  },
  {
   "cell_type": "code",
   "execution_count": 11,
   "id": "128757d7",
   "metadata": {},
   "outputs": [
    {
     "data": {
      "text/html": [
       "<div>\n",
       "<style scoped>\n",
       "    .dataframe tbody tr th:only-of-type {\n",
       "        vertical-align: middle;\n",
       "    }\n",
       "\n",
       "    .dataframe tbody tr th {\n",
       "        vertical-align: top;\n",
       "    }\n",
       "\n",
       "    .dataframe thead th {\n",
       "        text-align: right;\n",
       "    }\n",
       "</style>\n",
       "<table border=\"1\" class=\"dataframe\">\n",
       "  <thead>\n",
       "    <tr style=\"text-align: right;\">\n",
       "      <th></th>\n",
       "      <th>total_error</th>\n",
       "      <th>ribo_perc</th>\n",
       "    </tr>\n",
       "  </thead>\n",
       "  <tbody>\n",
       "    <tr>\n",
       "      <th>0</th>\n",
       "      <td>0.447588</td>\n",
       "      <td>100</td>\n",
       "    </tr>\n",
       "    <tr>\n",
       "      <th>1</th>\n",
       "      <td>0.368001</td>\n",
       "      <td>80</td>\n",
       "    </tr>\n",
       "    <tr>\n",
       "      <th>2</th>\n",
       "      <td>0.291292</td>\n",
       "      <td>60</td>\n",
       "    </tr>\n",
       "    <tr>\n",
       "      <th>3</th>\n",
       "      <td>0.210767</td>\n",
       "      <td>40</td>\n",
       "    </tr>\n",
       "    <tr>\n",
       "      <th>4</th>\n",
       "      <td>0.127545</td>\n",
       "      <td>20</td>\n",
       "    </tr>\n",
       "    <tr>\n",
       "      <th>5</th>\n",
       "      <td>0.044376</td>\n",
       "      <td>0</td>\n",
       "    </tr>\n",
       "  </tbody>\n",
       "</table>\n",
       "</div>"
      ],
      "text/plain": [
       "   total_error  ribo_perc\n",
       "0     0.447588        100\n",
       "1     0.368001         80\n",
       "2     0.291292         60\n",
       "3     0.210767         40\n",
       "4     0.127545         20\n",
       "5     0.044376          0"
      ]
     },
     "execution_count": 11,
     "metadata": {},
     "output_type": "execute_result"
    }
   ],
   "source": [
    "total_errors = []\n",
    "ribo_perc = []\n",
    "for s in df_list:\n",
    "    total_errors.append(s[\"total_error\"].values[0])\n",
    "    ribo_perc.append(s.index.values[0])\n",
    "total_errors = pd.DataFrame({\"total_error\":total_errors, \"ribo_perc\":ribo_perc})\n",
    "# save to disk\n",
    "total_errors.to_csv(\"/lustre/bio_running/DNA_Ribo_2023/results/simulated_washout/sim_washout_DNA_vs_RIBO1B_site_M13mp18_4984.reverse.total_error.tsv\", \n",
    "                    sep=\"\\t\", index=None)\n",
    "total_errors"
   ]
  },
  {
   "cell_type": "code",
   "execution_count": 12,
   "id": "c5aed719",
   "metadata": {},
   "outputs": [
    {
     "name": "stdout",
     "output_type": "stream",
     "text": [
      "Spearman correlation coefficient with associated p-value: 1.0 0.0\n",
      "Pearson correlation coefficient with associated p-value: 0.9998810666400115 2.1216875012462178e-08\n"
     ]
    },
    {
     "data": {
      "image/png": "[encoded data removed]",
      "text/plain": [
       "<Figure size 360x360 with 1 Axes>"
      ]
     },
     "metadata": {
      "needs_background": "light"
     },
     "output_type": "display_data"
    }
   ],
   "source": [
    "from scipy.stats import spearmanr, pearsonr\n",
    "plt.figure(figsize=(5,5))\n",
    "sn.regplot(data=total_errors, x=\"ribo_perc\", y=\"total_error\")\n",
    "r_spearman, p_spearman = spearmanr(total_errors[\"total_error\"].values, total_errors[\"ribo_perc\"].values)\n",
    "r_pearson, p_pearson = pearsonr(total_errors[\"total_error\"].values, total_errors[\"ribo_perc\"].values)\n",
    "print(\"Spearman correlation coefficient with associated p-value:\", r_spearman, p_spearman)\n",
    "print(\"Pearson correlation coefficient with associated p-value:\", r_pearson, p_pearson)\n",
    "plt.xlabel(\"ribo reads (%)\")\n",
    "plt.ylabel(\"total errors\\n(freq. mismatches+indels)\")\n",
    "# save image to disk\n",
    "plt.savefig(\"/lustre/bio_running/DNA_Ribo_2023/results/simulated_washout/sim_washout_DNA_vs_RIBO1B_site_M13mp18_4984.reverse.correlation.tiff\", \n",
    "            dpi=300, bbox_inches='tight', facecolor='white', transparent=False)\n",
    "plt.show()"
   ]
  }
 ],
 "metadata": {
  "kernelspec": {
   "display_name": "Python 3 (ipykernel)",
   "language": "python",
   "name": "python3"
  },
  "language_info": {
   "codemirror_mode": {
    "name": "ipython",
    "version": 3
   },
   "file_extension": ".py",
   "mimetype": "text/x-python",
   "name": "python",
   "nbconvert_exporter": "python",
   "pygments_lexer": "ipython3",
   "version": "3.8.13"
  }
 },
 "nbformat": 4,
 "nbformat_minor": 5
}
